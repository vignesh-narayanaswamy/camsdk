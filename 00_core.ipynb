{
 "cells": [
  {
   "cell_type": "code",
   "execution_count": null,
   "metadata": {},
   "outputs": [],
   "source": [
    "# default_exp camera"
   ]
  },
  {
   "cell_type": "markdown",
   "metadata": {},
   "source": [
    "# Camera\n",
    "\n",
    "> Provides methods to initialize, connect to and control the Imperx camera."
   ]
  },
  {
   "cell_type": "code",
   "execution_count": null,
   "metadata": {},
   "outputs": [],
   "source": [
    "#hide\n",
    "from nbdev.showdoc import *\n",
    "import cv2\n",
    "import numpy as np\n",
    "import libIpxCameraApiPy as IpxCameraApiPy"
   ]
  },
  {
   "cell_type": "code",
   "execution_count": null,
   "metadata": {},
   "outputs": [],
   "source": []
  },
  {
   "cell_type": "code",
   "execution_count": null,
   "outputs": [],
   "source": [
    "class IpxCamera:\n",
    "    def __init__(self):\n",
    "        \"\"\"\n",
    "        Camera class for initializing, connecting to and operating the camera\n",
    "        \"\"\"\n",
    "\n",
    "        # Initiating IpxCamera and connecting to device on network\n",
    "        self.ipx_system = IpxCameraApiPy.PyIpxSystem()\n",
    "        self.camera = self.__select_device()\n",
    "        self.params = self.camera.GetCameraParameters()\n",
    "\n",
    "        # Recording video\n",
    "        # self._fourcc = cv2.VideoWriter_fourcc(*'DIVX')\n",
    "        # self._out = cv2.VideoWriter('sample_video.mp4', 0x7634706d, 10.0, (img_width, img_height), 0)\n",
    "\n",
    "    def __select_device(self):\n",
    "        \"\"\"\n",
    "        Select camera device to connect to\n",
    "        \"\"\"\n",
    "        network_interfaces = self.ipx_system.GetInterfaceList()\n",
    "        active_devices = list()\n",
    "        dev_id = 0\n",
    "        for interface in network_interfaces:\n",
    "            devices = interface.GetDeviceInfoList()\n",
    "            for dev in devices:\n",
    "                active_devices.append(dev)\n",
    "                print('[', dev_id, ']    ', dev.GetModel(), 'at', interface.GetDescription())\n",
    "                dev_id += 1\n",
    "        if not network_interfaces or not active_devices:\n",
    "            print('No devices found')\n",
    "            return None\n",
    "\n",
    "        while True:\n",
    "            dv_select = input('Please select the camera number to connect to: \\n')\n",
    "            if not dv_select.isnumeric():\n",
    "                print('Please input a valid integer \\n')\n",
    "                continue\n",
    "            dv_select = int(dv_select)\n",
    "            if dv_select > dev_id:\n",
    "                print(f'No device with ID: {dv_select} \\n')\n",
    "                continue\n",
    "            return self.__establish_connection(active_devices[dv_select])\n",
    "\n",
    "    @staticmethod\n",
    "    def __establish_connection(device):\n",
    "        \"\"\"\n",
    "        Connects to camera using device info passed\n",
    "        :param obj device: Device object to connect to\n",
    "        \"\"\"\n",
    "        print('connecting to ', device.GetDisplayName())\n",
    "        device = IpxCameraApiPy.PyIpxCreateDevice(device)\n",
    "        return device if device.GetNumStreams() >= 1 else None\n",
    "\n",
    "    def start_acquisition(self):\n",
    "        \"\"\"\n",
    "        Starts capturing images from the camera\n",
    "        \"\"\"\n",
    "        try:\n",
    "            img_height = self.params.GetInteger('Height')\n",
    "            img_width = self.params.GetInteger('Width')\n",
    "\n",
    "            camera_model = self.camera.GetInfo().GetModel()\n",
    "\n",
    "            # create Stream object\n",
    "            stream = self.camera.GetStreamByIndex(0)\n",
    "            print(camera_model, ': Stream created')\n",
    "\n",
    "            # create buffers queue\n",
    "            buf_size = stream.GetBufferSize()\n",
    "            min_num_buffers = stream.GetMinNumBuffers()\n",
    "            sb_lst = [];\n",
    "            for x in range(min_num_buffers + 1):\n",
    "                sb_lst.append(stream.CreateBuffer(buf_size))\n",
    "            print(camera_model, ': Buffers queue created ')\n",
    "\n",
    "            self.cam_params.SetIntegerValue(\"TLParamsLocked\", 1)\n",
    "            stream.StartAcquisition()\n",
    "            self.cam_params.ExecuteCommand(\"AcquisitionStart\")\n",
    "\n",
    "            while True:\n",
    "                buffer = stream.GetBuffer(-1)\n",
    "                image = np.frombuffer(buffer.GetBufferPtr(), dtype=np.uint8).reshape((img_height,\n",
    "                                                                                      img_width))\n",
    "\n",
    "                # Use DL to check if the current frame has start of a truck rail\n",
    "                # If it does, start recording images\n",
    "\n",
    "                cv2.imshow('Cam Stream', image)\n",
    "                # self._out.write(image)\n",
    "                cv2.waitKey(1)\n",
    "                stream.QueueBuffer(buffer)\n",
    "\n",
    "        except KeyboardInterrupt:\n",
    "            # self._out.release()\n",
    "            if self.cam_params.ExecuteCommand(\"AcquisitionStop\") != 0:\n",
    "                self.cam_params.ExecuteCommand(\"AcquisitionAbort\")\n",
    "            stream.StopAcquisition(1);\n",
    "            self.cam_params.SetIntegerValue(\"TLParamsLocked\", 0)\n",
    "            stream.FlushBuffers(stream.Flush_AllDiscard)\n",
    "            for b in sb_lst:\n",
    "                stream.RevokeBuffer(b);\n",
    "\n",
    "            # release the stream and camera\n",
    "            print(camera_model, ': Closing stream')\n",
    "            stream.Release()\n",
    "\n",
    "        return 0"
   ],
   "metadata": {
    "collapsed": false,
    "pycharm": {
     "name": "#%%\n"
    }
   }
  },
  {
   "cell_type": "markdown",
   "source": [
    "Connection is established with the camera when Camera object is initialized\n"
   ],
   "metadata": {
    "collapsed": false,
    "pycharm": {
     "name": "#%% md\n"
    }
   }
  },
  {
   "cell_type": "code",
   "source": [
    "cam = IpxCamera()\n"
   ],
   "metadata": {
    "collapsed": false,
    "pycharm": {
     "name": "#%%\n"
    }
   },
   "execution_count": null,
   "outputs": []
  },
  {
   "cell_type": "markdown",
   "source": [
    "Once connection is established, camera parameters can be viewed and changed"
   ],
   "metadata": {
    "collapsed": false
   }
  },
  {
   "cell_type": "markdown",
   "source": [
    "###### Viewing camera parameters"
   ],
   "metadata": {
    "collapsed": false,
    "pycharm": {
     "name": "#%% md\n"
    }
   }
  },
  {
   "cell_type": "code",
   "execution_count": null,
   "outputs": [],
   "source": [
    "cam.params.GetFloat(\"ExposureTime\")"
   ],
   "metadata": {
    "collapsed": false,
    "pycharm": {
     "name": "#%%\n"
    }
   }
  },
  {
   "cell_type": "code",
   "source": [
    "cam.params.GetInt(\"Width\")"
   ],
   "metadata": {
    "collapsed": false,
    "pycharm": {
     "name": "#%%\n"
    }
   },
   "execution_count": null,
   "outputs": []
  },
  {
   "cell_type": "markdown",
   "source": [
    "\n",
    "###### Setting camera parameters"
   ],
   "metadata": {
    "collapsed": false
   }
  },
  {
   "cell_type": "code",
   "execution_count": null,
   "outputs": [],
   "source": [
    "cam.params.GetInt(\"Width\").SetValue(1240)\n",
    "cam.params.GetInt(\"Height\").SetValue(720)"
   ],
   "metadata": {
    "collapsed": false,
    "pycharm": {
     "name": "#%%\n"
    }
   }
  },
  {
   "cell_type": "code",
   "execution_count": null,
   "outputs": [],
   "source": [
    "cam.params.GetEnum(\"ExposureMode\").SetValueStr(\"Timed\")"
   ],
   "metadata": {
    "collapsed": false,
    "pycharm": {
     "name": "#%%\n"
    }
   }
  },
  {
   "cell_type": "code",
   "execution_count": null,
   "outputs": [],
   "source": [
    "cam.params.GetBool(\"AcquisitionFrameRateEnable\").SetValue(True)\n",
    "cam.params.GetFloat(\"AcquisitionFrameRate\").SetValue(10)"
   ],
   "metadata": {
    "collapsed": false,
    "pycharm": {
     "name": "#%%\n"
    }
   }
  },
  {
   "cell_type": "markdown",
   "source": [
    "Starting Image Acquisition. Camera will keep capturing images till a Keyboard Interrupt is issued"
   ],
   "metadata": {
    "collapsed": false
   }
  },
  {
   "cell_type": "code",
   "execution_count": null,
   "outputs": [],
   "source": [
    "cam.start_acquisition()"
   ],
   "metadata": {
    "collapsed": false,
    "pycharm": {
     "name": "#%%\n"
    }
   }
  }
 ],
 "metadata": {
  "kernelspec": {
   "display_name": "Python 3",
   "language": "python",
   "name": "python3"
  },
  "language_info": {
   "codemirror_mode": {
    "name": "ipython",
    "version": 3
   },
   "file_extension": ".py",
   "mimetype": "text/x-python",
   "name": "python",
   "nbconvert_exporter": "python",
   "pygments_lexer": "ipython3",
   "version": "3.8.5"
  }
 },
 "nbformat": 4,
 "nbformat_minor": 2
}